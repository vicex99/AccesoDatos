{
  "nbformat": 4,
  "nbformat_minor": 0,
  "metadata": {
    "colab": {
      "provenance": [],
      "include_colab_link": true
    },
    "kernelspec": {
      "name": "python3",
      "display_name": "Python 3"
    },
    "language_info": {
      "name": "python"
    }
  },
  "cells": [
    {
      "cell_type": "markdown",
      "metadata": {
        "id": "view-in-github",
        "colab_type": "text"
      },
      "source": [
        "<a href=\"https://colab.research.google.com/github/vicex99/AccesoDatos/blob/master/Tarea_2_IA_victor_alvarez_Teoria_de_Juegos_e_Inteligencia_Artificial.ipynb\" target=\"_parent\"><img src=\"https://colab.research.google.com/assets/colab-badge.svg\" alt=\"Open In Colab\"/></a>"
      ]
    },
    {
      "cell_type": "code",
      "metadata": {
        "colab": {
          "base_uri": "https://localhost:8080/"
        },
        "id": "O_o70unS2OCI",
        "outputId": "fc3d854c-76aa-449d-b341-5afccea0eb23"
      },
      "source": [
        "!pip install nashpy"
      ],
      "execution_count": 2,
      "outputs": [
        {
          "output_type": "stream",
          "name": "stdout",
          "text": [
            "Looking in indexes: https://pypi.org/simple, https://us-python.pkg.dev/colab-wheels/public/simple/\n",
            "Collecting nashpy\n",
            "  Downloading nashpy-0.0.22.tar.gz (11 kB)\n",
            "\u001b[33mWARNING: Discarding https://files.pythonhosted.org/packages/93/1c/9005c6a0a3a3b183b5b216cc02cef14bb080fd3ee8733a1006fbcd81fffc/nashpy-0.0.22.tar.gz#sha256=9378fd492f01163ac01a7384dd94f7ffa3ce40e31fe2a08844a2e34576b3d8db (from https://pypi.org/simple/nashpy/). Command errored out with exit status 1: python setup.py egg_info Check the logs for full command output.\u001b[0m\n",
            "  Downloading nashpy-0.0.21.tar.gz (11 kB)\n",
            "Requirement already satisfied: numpy>=1.12.1 in /usr/local/lib/python3.7/dist-packages (from nashpy) (1.21.6)\n",
            "Requirement already satisfied: scipy>=0.19.0 in /usr/local/lib/python3.7/dist-packages (from nashpy) (1.7.3)\n",
            "Building wheels for collected packages: nashpy\n",
            "  Building wheel for nashpy (setup.py) ... \u001b[?25l\u001b[?25hdone\n",
            "  Created wheel for nashpy: filename=nashpy-0.0.21-py3-none-any.whl size=15280 sha256=dd34df60c9bf5557c6973580fd6d912b85731938a7a8198c14c1765159b9436d\n",
            "  Stored in directory: /root/.cache/pip/wheels/02/08/62/cf4fa931e0a317d180936b266169a57f4bb4eb801465bbe8a1\n",
            "Successfully built nashpy\n",
            "Installing collected packages: nashpy\n",
            "Successfully installed nashpy-0.0.21\n"
          ]
        }
      ]
    },
    {
      "cell_type": "code",
      "metadata": {
        "id": "uL1KhvnQ2UeA"
      },
      "source": [
        "import nashpy as nash\n",
        "import numpy as np"
      ],
      "execution_count": 3,
      "outputs": []
    },
    {
      "cell_type": "markdown",
      "metadata": {
        "id": "67fjZcxD8tWX"
      },
      "source": [
        "Definimos las matrices de recompensas:"
      ]
    },
    {
      "cell_type": "code",
      "metadata": {
        "colab": {
          "base_uri": "https://localhost:8080/"
        },
        "id": "nU5fEXvb2B-m",
        "outputId": "1f0c9701-7074-4469-ca34-e518e8140215"
      },
      "source": [
        "A = np.array([[-8, 0], [-10, -1]]) # A es el jugador filas.\n",
        "B = np.array([[-8, -10], [0, -1]]) # B es el jugador columnas.\n",
        "juego1 = nash.Game(A,B)\n",
        "juego1"
      ],
      "execution_count": 4,
      "outputs": [
        {
          "output_type": "execute_result",
          "data": {
            "text/plain": [
              "Bi matrix game with payoff matrices:\n",
              "\n",
              "Row player:\n",
              "[[ -8   0]\n",
              " [-10  -1]]\n",
              "\n",
              "Column player:\n",
              "[[ -8 -10]\n",
              " [  0  -1]]"
            ]
          },
          "metadata": {},
          "execution_count": 4
        }
      ]
    },
    {
      "cell_type": "markdown",
      "metadata": {
        "id": "Rf-mr2AU8xHa"
      },
      "source": [
        "Encontramos las estrategias de Equilibrio:"
      ]
    },
    {
      "cell_type": "code",
      "metadata": {
        "colab": {
          "base_uri": "https://localhost:8080/"
        },
        "id": "iSX4Gayf2dnd",
        "outputId": "9754e14a-c2cd-4a3a-9c75-eb17ca362264"
      },
      "source": [
        "equilibrios = juego1.support_enumeration()\n",
        "for eq in equilibrios:\n",
        "    print(eq)"
      ],
      "execution_count": 5,
      "outputs": [
        {
          "output_type": "stream",
          "name": "stdout",
          "text": [
            "(array([1., 0.]), array([1., 0.]))\n"
          ]
        }
      ]
    },
    {
      "cell_type": "markdown",
      "metadata": {
        "id": "VxvFG9Xn-Mte"
      },
      "source": [
        "De manera similar, para un juego mas complejo con estrategias dominantes:"
      ]
    },
    {
      "cell_type": "code",
      "metadata": {
        "colab": {
          "base_uri": "https://localhost:8080/"
        },
        "id": "x7D5FL1e2nln",
        "outputId": "3659d2b8-04e9-4842-c390-ddd9133bb13c"
      },
      "source": [
        "A2 = np.array([[6, 4, 4, 3],\n",
        "               [5, 6, 0, 5],\n",
        "               [5, 3, 6, 4],\n",
        "               [2, 2, 3, 6]]) # A es el jugador filas.\n",
        "               \n",
        "B2 = np.array([[3, 4, 1, 0],\n",
        "               [4, 3, 2, 1],\n",
        "               [0, 2, 1, 4],\n",
        "               [0, 3, 3, 1]]) # B es el jugador columnas.\n",
        "juego2 = nash.Game(A2, B2)\n",
        "juego2"
      ],
      "execution_count": 6,
      "outputs": [
        {
          "output_type": "execute_result",
          "data": {
            "text/plain": [
              "Bi matrix game with payoff matrices:\n",
              "\n",
              "Row player:\n",
              "[[6 4 4 3]\n",
              " [5 6 0 5]\n",
              " [5 3 6 4]\n",
              " [2 2 3 6]]\n",
              "\n",
              "Column player:\n",
              "[[3 4 1 0]\n",
              " [4 3 2 1]\n",
              " [0 2 1 4]\n",
              " [0 3 3 1]]"
            ]
          },
          "metadata": {},
          "execution_count": 6
        }
      ]
    },
    {
      "cell_type": "markdown",
      "metadata": {
        "id": "efdkbSf8-RK6"
      },
      "source": [
        "Las estrategias resultantes son aquellas que no son dominadas:"
      ]
    },
    {
      "cell_type": "code",
      "metadata": {
        "colab": {
          "base_uri": "https://localhost:8080/"
        },
        "id": "PTNTe5kH98Pj",
        "outputId": "53d54e54-d328-42ed-95f7-7a1f1585db66"
      },
      "source": [
        "equilibrios = juego2.support_enumeration()\n",
        "for eq in equilibrios:\n",
        "    print(eq)"
      ],
      "execution_count": 7,
      "outputs": [
        {
          "output_type": "stream",
          "name": "stdout",
          "text": [
            "(array([0.5, 0.5, 0. , 0. ]), array([0.66666667, 0.33333333, 0.        , 0.        ]))\n"
          ]
        }
      ]
    },
    {
      "cell_type": "markdown",
      "metadata": {
        "id": "8uG0MTntCovf"
      },
      "source": [
        "# Minimax para 3 en Raya"
      ]
    },
    {
      "cell_type": "code",
      "metadata": {
        "id": "_apVivwXCqa_"
      },
      "source": [
        "import time\n",
        "\n",
        "class Juego:\n",
        "    def __init__(self):\n",
        "        self.iniciar_juego()\n",
        "\n",
        "    def iniciar_juego(self):\n",
        "        self.estado_actual = [['.','.','.'],\n",
        "                              ['.','.','.'],\n",
        "                              ['.','.','.']]\n",
        "\n",
        "        # X siempre juega primero:\n",
        "        self.turno_jugador = 'X'\n",
        "\n",
        "    def dibujar_tablero(self):\n",
        "        for i in range(0, 3):\n",
        "            for j in range(0, 3):\n",
        "                print('{}|'.format(self.estado_actual[i][j]), end=\" \")\n",
        "            print()\n",
        "        print()\n",
        "\n",
        "    def es_valido(self, px, py):\n",
        "      if px < 0 or px > 2 or py < 0 or py > 2:\n",
        "          return False\n",
        "      elif self.estado_actual[px][py] != '.':\n",
        "          return False\n",
        "      else:\n",
        "          return True\n",
        "    \n",
        "    def es_fin(self):\n",
        "      # Victoria en vertical:\n",
        "      for i in range(0, 3):\n",
        "          if (self.estado_actual[0][i] != '.' and\n",
        "              self.estado_actual[0][i] == self.estado_actual[1][i] and\n",
        "              self.estado_actual[1][i] == self.estado_actual[2][i]):\n",
        "              return self.estado_actual[0][i]\n",
        "\n",
        "      # Victoria en Horizontal:\n",
        "      for i in range(0, 3):\n",
        "          if (self.estado_actual[i] == ['X', 'X', 'X']):\n",
        "              return 'X'\n",
        "          elif (self.estado_actual[i] == ['O', 'O', 'O']):\n",
        "              return 'O'\n",
        "\n",
        "      # Victoria diagonal principal:\n",
        "      if (self.estado_actual[0][0] != '.' and\n",
        "          self.estado_actual[0][0] == self.estado_actual[1][1] and\n",
        "          self.estado_actual[0][0] == self.estado_actual[2][2]):\n",
        "          return self.estado_actual[0][0]\n",
        "\n",
        "      # Victoria diagonal secundaria:\n",
        "      if (self.estado_actual[0][2] != '.' and\n",
        "          self.estado_actual[0][2] == self.estado_actual[1][1] and\n",
        "          self.estado_actual[0][2] == self.estado_actual[2][0]):\n",
        "          return self.estado_actual[0][2]\n",
        "\n",
        "      # Mesa llena:\n",
        "      for i in range(0, 3):\n",
        "          for j in range(0, 3):\n",
        "              # Si hay espacio, seguimos jugando:\n",
        "              if (self.estado_actual[i][j] == '.'):\n",
        "                  return None\n",
        "\n",
        "      # Empate, mesa llena sin victoria:\n",
        "      return '.'\n",
        "\n",
        "    # 'O' es max, en este caso la IA:\n",
        "    def max(self):\n",
        "\n",
        "        # Posibles valores para max:\n",
        "        # -1 - pierde\n",
        "        #  0 - empata\n",
        "        #  1 - gana\n",
        "\n",
        "        # Inicializamos el resultado a -2, peor que lo peor\n",
        "        maxv = -2\n",
        "\n",
        "        px = None\n",
        "        py = None\n",
        "\n",
        "        resultado = self.es_fin()\n",
        "\n",
        "        # Si el juego acaba, debemos devolver el resultado:\n",
        "        if resultado == 'X':\n",
        "            return (-1, 0, 0)\n",
        "        elif resultado == 'O':\n",
        "            return (1, 0, 0)\n",
        "        elif resultado == '.':\n",
        "            return (0, 0, 0)\n",
        "\n",
        "        for i in range(0, 3):\n",
        "            for j in range(0, 3):\n",
        "                if self.estado_actual[i][j] == '.':\n",
        "                    # Esto es una rama del juego:\n",
        "                    self.estado_actual[i][j] = 'O'\n",
        "                    (m, min_i, min_j) = self.min()\n",
        "                    # Fijamos maxv si es necesario:\n",
        "                    if m > maxv:\n",
        "                        maxv = m\n",
        "                        px = i\n",
        "                        py = j\n",
        "                    # Vaciamos el tablero\n",
        "                    self.estado_actual[i][j] = '.'\n",
        "        return (maxv, px, py)\n",
        "\n",
        "    # El jugador 'X' es min, un humano en este caso:\n",
        "    def min(self):\n",
        "\n",
        "        #Inicio igual que para max:\n",
        "        minv = 2\n",
        "\n",
        "        qx = None\n",
        "        qy = None\n",
        "\n",
        "        resultado = self.es_fin()\n",
        "\n",
        "        if resultado == 'X':\n",
        "            return (-1, 0, 0)\n",
        "        elif resultado == 'O':\n",
        "            return (1, 0, 0)\n",
        "        elif resultado == '.':\n",
        "            return (0, 0, 0)\n",
        "\n",
        "        for i in range(0, 3):\n",
        "            for j in range(0, 3):\n",
        "                if self.estado_actual[i][j] == '.':\n",
        "                    self.estado_actual[i][j] = 'X'\n",
        "                    (m, max_i, max_j) = self.max()\n",
        "                    if m < minv:\n",
        "                        minv = m\n",
        "                        qx = i\n",
        "                        qy = j\n",
        "                    self.estado_actual[i][j] = '.'\n",
        "\n",
        "        return (minv, qx, qy)\n",
        "\n",
        "    def jugar(self):\n",
        "      while True:\n",
        "          self.dibujar_tablero()\n",
        "          self.resultado = self.es_fin()\n",
        "\n",
        "          # Mostrar que el juego termino:\n",
        "          if self.resultado != None:\n",
        "              if self.resultado == 'X':\n",
        "                  print('El ganador es X!')\n",
        "              elif self.resultado == 'O':\n",
        "                  print('El ganador es O!')\n",
        "              elif self.resultado == '.':\n",
        "                  print(\"Empate!\")\n",
        "\n",
        "              self.iniciar_juego()\n",
        "              return\n",
        "\n",
        "          # If it's player's turn\n",
        "          if self.turno_jugador == 'X':\n",
        "\n",
        "              while True:\n",
        "\n",
        "                  inicio = time.time()\n",
        "                  (m, qx, qy) = self.min()\n",
        "                  fin = time.time()\n",
        "                  print('Evaluacion: {}s'.format(round(fin - inicio, 7)))\n",
        "                  print('Movimientos Recomendados: X = {}, Y = {}'.format(qx, qy))\n",
        "\n",
        "                  px = int(input('X coordenada: '))\n",
        "                  py = int(input('Y coordenada: '))\n",
        "\n",
        "                  (qx, qy) = (px, py)\n",
        "\n",
        "                  if self.es_valido(px, py):\n",
        "                      self.estado_actual[px][py] = 'X'\n",
        "                      self.turno_jugador = 'O'\n",
        "                      break\n",
        "                  else:\n",
        "                      print('Movimiento no valido, prueba otra vez.')\n",
        "\n",
        "          # Turno de la IA\n",
        "          else:\n",
        "              (m, px, py) = self.max()\n",
        "              self.estado_actual[px][py] = 'O'\n",
        "              self.turno_jugador = 'X'"
      ],
      "execution_count": null,
      "outputs": []
    },
    {
      "cell_type": "code",
      "metadata": {
        "colab": {
          "base_uri": "https://localhost:8080/"
        },
        "id": "HMm8sCeDDDVi",
        "outputId": "535ef6bc-c2d9-4f78-8d64-c7f656f3369d"
      },
      "source": [
        "g = Juego()\n",
        "g.jugar()"
      ],
      "execution_count": null,
      "outputs": [
        {
          "output_type": "stream",
          "name": "stdout",
          "text": [
            ".| .| .| \n",
            ".| .| .| \n",
            ".| .| .| \n",
            "\n",
            "Evaluacion: 3.2620902s\n",
            "Movimientos Recomendados: X = 0, Y = 0\n",
            "X coordenada: 1\n",
            "Y coordenada: 1\n",
            ".| .| .| \n",
            ".| X| .| \n",
            ".| .| .| \n",
            "\n",
            "O| .| .| \n",
            ".| X| .| \n",
            ".| .| .| \n",
            "\n",
            "Evaluacion: 0.038965s\n",
            "Movimientos Recomendados: X = 0, Y = 1\n",
            "X coordenada: 0\n",
            "Y coordenada: 0\n",
            "Movimiento invalido, prueba otra vez.\n",
            "Evaluacion: 0.0469537s\n",
            "Movimientos Recomendados: X = 0, Y = 1\n",
            "X coordenada: 1\n",
            "Y coordenada: 0\n",
            "O| .| .| \n",
            "X| X| .| \n",
            ".| .| .| \n",
            "\n",
            "O| .| .| \n",
            "X| X| O| \n",
            ".| .| .| \n",
            "\n",
            "Evaluacion: 0.0016596s\n",
            "Movimientos Recomendados: X = 0, Y = 1\n",
            "X coordenada: 0\n",
            "Y coordenada: 1\n",
            "O| X| .| \n",
            "X| X| O| \n",
            ".| .| .| \n",
            "\n",
            "O| X| .| \n",
            "X| X| O| \n",
            ".| O| .| \n",
            "\n",
            "Evaluacion: 0.000241s\n",
            "Movimientos Recomendados: X = 0, Y = 2\n",
            "X coordenada: 0\n",
            "Y coordenada: 2\n",
            "O| X| X| \n",
            "X| X| O| \n",
            ".| O| .| \n",
            "\n",
            "O| X| X| \n",
            "X| X| O| \n",
            "O| O| .| \n",
            "\n",
            "Evaluacion: 2.98e-05s\n",
            "Movimientos Recomendados: X = 2, Y = 2\n",
            "X coordenada: 2\n",
            "Y coordenada: 2\n",
            "O| X| X| \n",
            "X| X| O| \n",
            "O| O| X| \n",
            "\n",
            "Empate!\n"
          ]
        }
      ]
    },
    {
      "cell_type": "markdown",
      "metadata": {
        "id": "4c2dgySdN68q"
      },
      "source": [
        "# Ejercicio: ¿Puedes modificar las funciones min y max para podar las ramas innecesarias? ¿Que le pasa al tiempo de procesamiento de la busqueda de la IA?"
      ]
    },
    {
      "cell_type": "markdown",
      "metadata": {
        "id": "gkXqBCNgW--L"
      },
      "source": [
        "Modifica las funciones min, max y jugar con los ejemplos siguientes rellenando los espacios:"
      ]
    },
    {
      "cell_type": "code",
      "metadata": {
        "id": "TOB4zRutFHcd"
      },
      "source": [
        "def max_alfa_beta(self, alfa, beta):\n",
        "        maxv = -2\n",
        "        px = alfa\n",
        "        py = beta\n",
        "\n",
        "        # Comprobacion juego finalizado\n",
        "        resultado = self.es_fin()\n",
        "\n",
        "        if resultado == 'X': # Gana jugador\n",
        "            return (-1, 0, 0)\n",
        "        elif resultado == 'O': # Gana IA\n",
        "            return (1, 0, 0)\n",
        "        elif resultado == '.': # empate\n",
        "            return (0, 0, 0)\n",
        "\n",
        "        # Siguiente turno, si no ha acabado\n",
        "        for i in range(0, 3):\n",
        "            for j in range(0, 3):\n",
        "                if self.estado_actual[i][j] == '.': # comprobacion \n",
        "                    self.estado_actual[i][j] = 'O'\n",
        "                    (m, min_i, in_j) = self.min_alfa_beta(alfa, beta)\n",
        "                    if m > maxv:\n",
        "                        maxv = m\n",
        "                        px = i\n",
        "                        py = j\n",
        "                    self.estado_actual[i][j] = '.'\n",
        "\n",
        "                    #\n",
        "                    if maxv >= beta:\n",
        "                        return (maxv, px, py)\n",
        "\n",
        "                    if maxv > alfa:\n",
        "                        alfa = maxv\n",
        "\n",
        "        return (alfa, px, py)"
      ],
      "execution_count": null,
      "outputs": []
    },
    {
      "cell_type": "code",
      "metadata": {
        "id": "RDZcv29POvK-"
      },
      "source": [
        "def min_alfa_beta(self, alpha, beta):\n",
        "\n",
        "        minv = 2\n",
        "\n",
        "        qx = None\n",
        "        qy = None\n",
        "\n",
        "        # Comprobacion juego finalizado\n",
        "        resultado = self.es_fin()\n",
        "\n",
        "        if resultado == 'X': # Gana jugador\n",
        "            return (-1, 0, 0)\n",
        "        elif resultado == 'O': # Gana IA\n",
        "            return (1, 0, 0)\n",
        "        elif resultado == '.': # empate\n",
        "            return (0, 0, 0)\n",
        "\n",
        "        for i in range(0, 3):\n",
        "            for j in range(0, 3):\n",
        "                if self.estado_actual[i][j] == '.':\n",
        "                    self.estado_actual[i][j] = 'X'\n",
        "                    (m, max_i, max_j) = self.max_alfa_beta(alpha, beta) \n",
        "                    if m < minv:\n",
        "                        minv = m\n",
        "                        qx = i\n",
        "                        qy = j\n",
        "                    self.estado_actual[i][j] = '.'\n",
        "\n",
        "                    if minv <= alpha:\n",
        "                        return (minv, qx, qy)\n",
        "\n",
        "                    if minv < beta:\n",
        "                        beta = minv\n",
        "\n",
        "        return (beta, qx, qy)"
      ],
      "execution_count": null,
      "outputs": []
    },
    {
      "cell_type": "code",
      "metadata": {
        "id": "hajLHAjPR032"
      },
      "source": [
        "  def jugar_alfa_beta(self):\n",
        "     while True:\n",
        "        self.dibujar_tablero()\n",
        "        self.resultado = self.es_fin()\n",
        "\n",
        "        if self.resultado != None:\n",
        "            if self.resultado == 'X':\n",
        "                print('Gana X!')\n",
        "            elif self.resultado == 'O':\n",
        "                print('Gana O!')\n",
        "            elif self.resultado == '.':\n",
        "                print(\"Empate\")\n",
        "\n",
        "\n",
        "            self.iniciar_juego()\n",
        "            return # Fin de la partida\n",
        "\n",
        "        if self.turno_jugador == 'X':\n",
        "\n",
        "            while True:\n",
        "                inicio = time.time()\n",
        "                (m, qx, qy) = self.min_alfa_beta(-2, 2)\n",
        "                fin = time.time()\n",
        "                print('Tiempo de evaluacion: {}s'.format(round(fin - inicio, 7)))\n",
        "                print('Movimiento recomendado: X = {}, Y = {}'.format(qx, qy))\n",
        "\n",
        "                px = int(input('X coordenada: '))\n",
        "                py = int(input('Y coordenada: '))\n",
        "\n",
        "                qx = px\n",
        "                qy = py\n",
        "\n",
        "                if self.es_valido(px, py):\n",
        "                    self.estado_actual[px][py] = 'X'\n",
        "                    self.turno_jugador = 'O'\n",
        "                    break\n",
        "                else:\n",
        "                    print('Movimiento no valido. Prueba con otro movimiento.')\n",
        "\n",
        "        else:\n",
        "            (m, px, py) = self.max_alfa_beta(-2, 2)\n",
        "            self.estado_actual[px][py] = 'O'\n",
        "            self.turno_jugador = 'X'"
      ],
      "execution_count": null,
      "outputs": []
    },
    {
      "cell_type": "markdown",
      "source": [
        "Comprobación del funcionamiento del juego alfa beta"
      ],
      "metadata": {
        "id": "i3yDSKX6w64T"
      }
    },
    {
      "cell_type": "code",
      "source": [
        "import time\n",
        "\n",
        "class Juego:\n",
        "    def __init__(self):\n",
        "        self.iniciar_juego()\n",
        "\n",
        "    def iniciar_juego(self):\n",
        "        self.estado_actual = [['.','.','.'],\n",
        "                              ['.','.','.'],\n",
        "                              ['.','.','.']]\n",
        "\n",
        "        # X siempre juega primero:\n",
        "        self.turno_jugador = 'X'\n",
        "\n",
        "    def dibujar_tablero(self):\n",
        "        for i in range(0, 3):\n",
        "            for j in range(0, 3):\n",
        "                print('{}|'.format(self.estado_actual[i][j]), end=\" \")\n",
        "            print()\n",
        "        print()\n",
        "\n",
        "    def es_valido(self, px, py):\n",
        "      if px < 0 or px > 2 or py < 0 or py > 2:\n",
        "          return False\n",
        "      elif self.estado_actual[px][py] != '.':\n",
        "          return False\n",
        "      else:\n",
        "          return True\n",
        "    \n",
        "    def es_fin(self):\n",
        "      # Victoria en vertical:\n",
        "      for i in range(0, 3):\n",
        "          if (self.estado_actual[0][i] != '.' and\n",
        "              self.estado_actual[0][i] == self.estado_actual[1][i] and\n",
        "              self.estado_actual[1][i] == self.estado_actual[2][i]):\n",
        "              return self.estado_actual[0][i]\n",
        "\n",
        "      # Victoria en Horizontal:\n",
        "      for i in range(0, 3):\n",
        "          if (self.estado_actual[i] == ['X', 'X', 'X']):\n",
        "              return 'X'\n",
        "          elif (self.estado_actual[i] == ['O', 'O', 'O']):\n",
        "              return 'O'\n",
        "\n",
        "      # Victoria diagonal principal:\n",
        "      if (self.estado_actual[0][0] != '.' and\n",
        "          self.estado_actual[0][0] == self.estado_actual[1][1] and\n",
        "          self.estado_actual[0][0] == self.estado_actual[2][2]):\n",
        "          return self.estado_actual[0][0]\n",
        "\n",
        "      # Victoria diagonal secundaria:\n",
        "      if (self.estado_actual[0][2] != '.' and\n",
        "          self.estado_actual[0][2] == self.estado_actual[1][1] and\n",
        "          self.estado_actual[0][2] == self.estado_actual[2][0]):\n",
        "          return self.estado_actual[0][2]\n",
        "\n",
        "      # Mesa llena:\n",
        "      for i in range(0, 3):\n",
        "          for j in range(0, 3):\n",
        "              # Si hay espacio, seguimos jugando:\n",
        "              if (self.estado_actual[i][j] == '.'):\n",
        "                  return None\n",
        "\n",
        "      # Empate, mesa llena sin victoria:\n",
        "      return '.'\n",
        "\n",
        "    def jugar_alfa_beta(self):\n",
        "        while True:\n",
        "            self.dibujar_tablero()\n",
        "            self.resultado = self.es_fin()\n",
        "\n",
        "            if self.resultado != None:\n",
        "                if self.resultado == 'X':\n",
        "                    print('Gana X!')\n",
        "                elif self.resultado == 'O':\n",
        "                    print('Gana O!')\n",
        "                elif self.resultado == '.':\n",
        "                    print(\"Empate\")\n",
        "\n",
        "\n",
        "                self.iniciar_juego()\n",
        "                return # Fin de la partida\n",
        "\n",
        "            if self.turno_jugador == 'X':\n",
        "\n",
        "                while True:\n",
        "                    inicio = time.time()\n",
        "                    (m, qx, qy) = self.min_alfa_beta(-2, 2)\n",
        "                    fin = time.time()\n",
        "                    print('Tiempo de evaluacion: {}s'.format(round(fin - inicio, 7)))\n",
        "                    print('Movimiento recomendado: X = {}, Y = {}'.format(qx, qy))\n",
        "\n",
        "                    px = int(input('X coordenada: '))\n",
        "                    py = int(input('Y coordenada: '))\n",
        "\n",
        "                    qx = px\n",
        "                    qy = py\n",
        "\n",
        "                    if self.es_valido(px, py):\n",
        "                        self.estado_actual[px][py] = 'X'\n",
        "                        self.turno_jugador = 'O'\n",
        "                        break\n",
        "                    else:\n",
        "                        print('Movimiento no valido. Prueba con otro movimiento.')\n",
        "\n",
        "            else:\n",
        "                (m, px, py) = self.max_alfa_beta(-2, 2)\n",
        "                self.estado_actual[px][py] = 'O'\n",
        "                self.turno_jugador = 'X'\n",
        "\n",
        "    def min_alfa_beta(self, alpha, beta):\n",
        "\n",
        "        minv = 2\n",
        "\n",
        "        qx = None\n",
        "        qy = None\n",
        "\n",
        "        # Comprobacion juego finalizado\n",
        "        resultado = self.es_fin()\n",
        "\n",
        "        if resultado == 'X': # Gana jugador\n",
        "            return (-1, 0, 0)\n",
        "        elif resultado == 'O': # Gana IA\n",
        "            return (1, 0, 0)\n",
        "        elif resultado == '.': # empate\n",
        "            return (0, 0, 0)\n",
        "\n",
        "        for i in range(0, 3):\n",
        "            for j in range(0, 3):\n",
        "                if self.estado_actual[i][j] == '.':\n",
        "                    self.estado_actual[i][j] = 'X'\n",
        "                    (m, max_i, max_j) = self.max_alfa_beta(alpha, beta)\n",
        "                    if m < minv:\n",
        "                        minv = m\n",
        "                        qx = i\n",
        "                        qy = j\n",
        "                    self.estado_actual[i][j] = '.'\n",
        "\n",
        "                    if minv <= alpha:\n",
        "                        return (minv, qx, qy)\n",
        "\n",
        "                    if minv < beta:\n",
        "                        beta = minv\n",
        "\n",
        "        return (beta, qx, qy)\n",
        "\n",
        "    def max_alfa_beta(self, alfa, beta):\n",
        "            maxv = -2\n",
        "            px = alfa\n",
        "            py = beta\n",
        "\n",
        "            # Comprobacion juego finalizado\n",
        "            resultado = self.es_fin()\n",
        "\n",
        "            if resultado == 'X': # Gana jugador\n",
        "                return (-1, 0, 0)\n",
        "            elif resultado == 'O': # Gana IA\n",
        "                return (1, 0, 0)\n",
        "            elif resultado == '.': # empate\n",
        "                return (0, 0, 0)\n",
        "\n",
        "            # Siguiente turno, si no ha acabado\n",
        "            for i in range(0, 3):\n",
        "                for j in range(0, 3):\n",
        "                    if self.estado_actual[i][j] == '.': # comprobacion \n",
        "                        self.estado_actual[i][j] = 'O'\n",
        "                        (m, min_i, in_j) = self.min_alfa_beta(alfa, beta)\n",
        "                        if m > maxv:\n",
        "                            maxv = m\n",
        "                            px = i\n",
        "                            py = j\n",
        "                        self.estado_actual[i][j] = '.'\n",
        "\n",
        "                        \n",
        "                        if maxv >= beta:\n",
        "                            return (maxv, px, py)\n",
        "\n",
        "                        if maxv > alfa:\n",
        "                            alfa = maxv\n",
        "\n",
        "            return (alfa, px, py)\n",
        "      "
      ],
      "metadata": {
        "id": "g5tIRPqkvBnG"
      },
      "execution_count": 8,
      "outputs": []
    },
    {
      "cell_type": "code",
      "source": [
        "Juego().jugar_alfa_beta()"
      ],
      "metadata": {
        "id": "qzIy7H36uyMG",
        "outputId": "3097167c-6dde-471c-b6e1-c82e078eb3ae",
        "colab": {
          "base_uri": "https://localhost:8080/"
        }
      },
      "execution_count": 10,
      "outputs": [
        {
          "output_type": "stream",
          "name": "stdout",
          "text": [
            ".| .| .| \n",
            ".| .| .| \n",
            ".| .| .| \n",
            "\n",
            "Tiempo de evaluacion: 0.1095402s\n",
            "Movimiento recomendado: X = 0, Y = 0\n",
            "X coordenada: 0\n",
            "Y coordenada: 0\n",
            "X| .| .| \n",
            ".| .| .| \n",
            ".| .| .| \n",
            "\n",
            "X| .| .| \n",
            ".| O| .| \n",
            ".| .| .| \n",
            "\n",
            "Tiempo de evaluacion: 0.0045099s\n",
            "Movimiento recomendado: X = 0, Y = 1\n",
            "X coordenada: 0\n",
            "Y coordenada: 1\n",
            "X| X| .| \n",
            ".| O| .| \n",
            ".| .| .| \n",
            "\n",
            "X| X| O| \n",
            ".| O| .| \n",
            ".| .| .| \n",
            "\n",
            "Tiempo de evaluacion: 0.0004015s\n",
            "Movimiento recomendado: X = 2, Y = 0\n",
            "X coordenada: 2\n",
            "Y coordenada: 0\n",
            "X| X| O| \n",
            ".| O| .| \n",
            "X| .| .| \n",
            "\n",
            "X| X| O| \n",
            "O| O| .| \n",
            "X| .| .| \n",
            "\n",
            "Tiempo de evaluacion: 9.35e-05s\n",
            "Movimiento recomendado: X = 1, Y = 2\n",
            "X coordenada: 1\n",
            "Y coordenada: 2\n",
            "X| X| O| \n",
            "O| O| X| \n",
            "X| .| .| \n",
            "\n",
            "X| X| O| \n",
            "O| O| X| \n",
            "X| O| .| \n",
            "\n",
            "Tiempo de evaluacion: 2.53e-05s\n",
            "Movimiento recomendado: X = 2, Y = 2\n",
            "X coordenada: 2\n",
            "Y coordenada: 2\n",
            "X| X| O| \n",
            "O| O| X| \n",
            "X| O| X| \n",
            "\n",
            "Empate\n"
          ]
        }
      ]
    }
  ]
}